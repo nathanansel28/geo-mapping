{
 "cells": [
  {
   "cell_type": "code",
   "execution_count": 1,
   "id": "1b31b455",
   "metadata": {},
   "outputs": [
    {
     "name": "stdout",
     "output_type": "stream",
     "text": [
      "Downloading shapefile...\n",
      "Extracted to: assets\n"
     ]
    }
   ],
   "source": [
    "from setup import setup_and_fetch_variables\n",
    "environment_variables = setup_and_fetch_variables()\n",
    "folder_paths = environment_variables.get('folder_paths', [])\n",
    "\n",
    "import os\n",
    "import time"
   ]
  },
  {
   "cell_type": "code",
   "execution_count": 9,
   "id": "173ca6a7",
   "metadata": {},
   "outputs": [],
   "source": [
    "import importlib\n",
    "import tools\n",
    "import map\n",
    "\n",
    "for module in [tools, map]:\n",
    "    importlib.reload(module)\n",
    "\n",
    "from tools import open_html_in_chrome\n",
    "from map import map_photos, map_photos_with_bubbles "
   ]
  },
  {
   "cell_type": "code",
   "execution_count": 8,
   "id": "518a6afa",
   "metadata": {},
   "outputs": [
    {
     "name": "stdout",
     "output_type": "stream",
     "text": [
      "Interactive map saved to output/map_photos.html\n"
     ]
    }
   ],
   "source": [
    "filename = 'output/map_photos.html'\n",
    "map_photos(folder_paths, output_file=filename)\n",
    "open_html_in_chrome(filename)"
   ]
  },
  {
   "cell_type": "code",
   "execution_count": 10,
   "id": "50ea9ef6",
   "metadata": {},
   "outputs": [
    {
     "name": "stdout",
     "output_type": "stream",
     "text": [
      "Map saved: output/map_photos_with_bubbles.html\n"
     ]
    }
   ],
   "source": [
    "filename = 'output/map_photos_with_bubbles.html'\n",
    "map_photos_with_bubbles(folder_paths, output_file=filename)\n",
    "open_html_in_chrome(filename)"
   ]
  }
 ],
 "metadata": {
  "kernelspec": {
   "display_name": "venv",
   "language": "python",
   "name": "python3"
  },
  "language_info": {
   "codemirror_mode": {
    "name": "ipython",
    "version": 3
   },
   "file_extension": ".py",
   "mimetype": "text/x-python",
   "name": "python",
   "nbconvert_exporter": "python",
   "pygments_lexer": "ipython3",
   "version": "3.11.6"
  }
 },
 "nbformat": 4,
 "nbformat_minor": 5
}
